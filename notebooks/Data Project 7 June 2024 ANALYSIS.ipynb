{
 "cells": [
  {
   "cell_type": "code",
   "execution_count": 12,
   "id": "48f88e3a",
   "metadata": {},
   "outputs": [],
   "source": [
    "import pandas as pd\n",
    "from sklearn.model_selection import train_test_split\n",
    "from sklearn.linear_model import LinearRegression\n",
    "from sklearn.metrics import mean_squared_error\n",
    "import seaborn as sns\n",
    "import matplotlib.pyplot as plt"
   ]
  },
  {
   "cell_type": "code",
   "execution_count": 13,
   "id": "fe3ac66d",
   "metadata": {},
   "outputs": [],
   "source": [
    "data = pd.read_csv(r\"Studio_Ghibli CLEANED.csv\")"
   ]
  },
  {
   "cell_type": "code",
   "execution_count": 14,
   "id": "ba30d943",
   "metadata": {},
   "outputs": [
    {
     "name": "stdout",
     "output_type": "stream",
     "text": [
      "                              Name  Year              Director  \\\n",
      "0            When Marnie Was There  2014  Hiromasa Yonebayashi   \n",
      "1  The Tale of The Princess Kaguya  2013         Isao Takahata   \n",
      "2                   The Wind Rises  2013        Hayao Miyazaki   \n",
      "3            From Up on Poppy Hill  2011         Goro Miyazaki   \n",
      "4     The Secret World of Arrietty  2010  Hiromasa Yonebayashi   \n",
      "\n",
      "         Screenplay              Budget           Revenue    Genre 1  \\\n",
      "0  Joan G. Robinson  $1,150,000,000.00    $34,949,567.00   Animation   \n",
      "1    Riko Sakaguchi     $49,300,000.00    $24,366,656.00   Animation   \n",
      "2       Tatsuo Hori     $30,000,000.00   $117,932,401.00       Drama   \n",
      "3    Hayao Miyazaki     $22,000,000.00    $61,037,844.00   Animation   \n",
      "4       Mary Norton     $23,000,000.00   $149,480,483.00     Fantasy   \n",
      "\n",
      "     Genre 2  Genre 3 Duration  Duration in Minutes  \n",
      "0      Drama  unknown   1h 43m                  103  \n",
      "1      Drama  Fantasy   2h 17m                  137  \n",
      "2  Animation  Romance    2h 6m                  126  \n",
      "3      Drama  unknown   1h 31m                   91  \n",
      "4  Animation   Family   1h 34m                   94  \n",
      "Name                   object\n",
      "Year                    int64\n",
      "Director               object\n",
      "Screenplay             object\n",
      "Budget                 object\n",
      "Revenue                object\n",
      "Genre 1                object\n",
      "Genre 2                object\n",
      "Genre 3                object\n",
      "Duration               object\n",
      "Duration in Minutes     int64\n",
      "dtype: object\n"
     ]
    }
   ],
   "source": [
    "# Displaying the first few rows of the dataset\n",
    "print(data.head())\n",
    "\n",
    "# Checking the data types of columns\n",
    "print(data.dtypes)"
   ]
  },
  {
   "cell_type": "code",
   "execution_count": 17,
   "id": "2239de4b",
   "metadata": {},
   "outputs": [
    {
     "name": "stdout",
     "output_type": "stream",
     "text": [
      "         Budget      Revenue\n",
      "0  1.150000e+09   34949567.0\n",
      "1  4.930000e+07   24366656.0\n",
      "2  3.000000e+07  117932401.0\n",
      "3  2.200000e+07   61037844.0\n",
      "4  2.300000e+07  149480483.0\n"
     ]
    }
   ],
   "source": [
    "data['Budget'] = data['Budget'].replace('[\\$,]', '', regex=True).astype(float)\n",
    "data['Revenue'] = data['Revenue'].replace('[\\$,]', '', regex=True).astype(float)\n",
    "print(data[['Budget', 'Revenue']].head())"
   ]
  },
  {
   "cell_type": "code",
   "execution_count": 18,
   "id": "bbf9c952",
   "metadata": {},
   "outputs": [
    {
     "data": {
      "image/png": "[encoded data removed]",
      "text/plain": [
       "<Figure size 432x288 with 1 Axes>"
      ]
     },
     "metadata": {
      "needs_background": "light"
     },
     "output_type": "display_data"
    }
   ],
   "source": [
    "# Visualizing the relationship between Budget and Revenue\n",
    "sns.scatterplot(x='Budget', y='Revenue', data=data)\n",
    "plt.title('Budget vs. Revenue')\n",
    "plt.xlabel('Budget')\n",
    "plt.ylabel('Revenue')\n",
    "plt.show()"
   ]
  },
  {
   "cell_type": "code",
   "execution_count": 25,
   "id": "795cedd7",
   "metadata": {},
   "outputs": [
    {
     "name": "stdout",
     "output_type": "stream",
     "text": [
      "Mean Squared Error: 1.393925470692569e+18\n"
     ]
    }
   ],
   "source": [
    "# Training a simple linear regression model to predict Revenue based on Budget\n",
    "# Splitting the data into features (X) and target variable (y)\n",
    "X = data[['Budget']]\n",
    "y = data['Revenue']\n",
    "\n",
    "# Splitting the data into training and testing sets\n",
    "X_train, X_test, y_train, y_test = train_test_split(X, y, test_size=0.3, random_state=42)\n",
    "\n",
    "# Training the linear regression model\n",
    "model = LinearRegression()\n",
    "model.fit(X_train, y_train)\n",
    "\n",
    "# Making predictions on the testing set\n",
    "y_pred = model.predict(X_test)\n",
    "\n",
    "# Evaluating the model\n",
    "mse = mean_squared_error(y_test, y_pred)\n",
    "print(\"Mean Squared Error:\", mse)"
   ]
  },
  {
   "cell_type": "code",
   "execution_count": 26,
   "id": "da62956e",
   "metadata": {},
   "outputs": [
    {
     "data": {
      "image/png": "[encoded data removed]",
      "text/plain": [
       "<Figure size 432x288 with 1 Axes>"
      ]
     },
     "metadata": {
      "needs_background": "light"
     },
     "output_type": "display_data"
    }
   ],
   "source": [
    "# Visualizing the model's predictions\n",
    "plt.scatter(X_test, y_test, color='black')\n",
    "plt.plot(X_test, y_pred, color='blue', linewidth=3)\n",
    "plt.title('Linear Regression: Budget vs. Revenue')\n",
    "plt.xlabel('Budget')\n",
    "plt.ylabel('Revenue')\n",
    "plt.show()"
   ]
  },
  {
   "cell_type": "code",
   "execution_count": 27,
   "id": "fb37293c",
   "metadata": {},
   "outputs": [
    {
     "name": "stdout",
     "output_type": "stream",
     "text": [
      "Correlation between Budget and Revenue: -0.06041760106896562\n"
     ]
    }
   ],
   "source": [
    "# Checking correlation between Budget and Revenue\n",
    "correlation = data['Budget'].corr(data['Revenue'])\n",
    "print(\"Correlation between Budget and Revenue:\", correlation)"
   ]
  },
  {
   "cell_type": "code",
   "execution_count": null,
   "id": "35195a56",
   "metadata": {},
   "outputs": [],
   "source": []
  }
 ],
 "metadata": {
  "kernelspec": {
   "display_name": "Python 3 (ipykernel)",
   "language": "python",
   "name": "python3"
  },
  "language_info": {
   "codemirror_mode": {
    "name": "ipython",
    "version": 3
   },
   "file_extension": ".py",
   "mimetype": "text/x-python",
   "name": "python",
   "nbconvert_exporter": "python",
   "pygments_lexer": "ipython3",
   "version": "3.9.5"
  }
 },
 "nbformat": 4,
 "nbformat_minor": 5
}
